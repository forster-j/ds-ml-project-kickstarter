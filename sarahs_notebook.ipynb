{
 "cells": [
  {
   "cell_type": "markdown",
   "metadata": {},
   "source": [
    "# Kickstarter Project"
   ]
  },
  {
   "cell_type": "markdown",
   "metadata": {},
   "source": [
    "### Definition of relevant columns\n",
    "\n",
    "* backers_count: amount of people pledging money to the project                                     \n",
    "* category -> 'slug': name of the projects' specific parent- & sub-category (part of json string)\n",
    "* country: country of the projects creator \n",
    "* creator -> 'id': id of the creator -> to be used as categorical variable (part of json string)\n",
    "* goal: information on the amount of money needed to succeed in the local currency of the project\n",
    "* launched_at: start date? of the project ()\n",
    "* deadline: end date of the project ()\n",
    "* spotlight: project highlighted on the website\n",
    "* staff_pick: marked by a staff member of kickstarter (more attention drawn towards project)\n",
    "* state: (successful/failed/canceled/live/suspended) -> exclude 'live' and combine 'canceled', 'suspended' with 'failed'\n",
    "* static_usd_rate: exchange rate to transform goal in every column from current currency to USD\n",
    "\n"
   ]
  },
  {
   "cell_type": "markdown",
   "metadata": {},
   "source": [
    "### Stakeholder: Project creator \n",
    "### Question: Is it useful to put much effort into launching a campaign on kickstarter? \n",
    "### Measure: Is the campaign likely to succeed or fail?"
   ]
  },
  {
   "cell_type": "markdown",
   "metadata": {},
   "source": [
    "## Import Libraries"
   ]
  },
  {
   "cell_type": "code",
   "execution_count": 91,
   "metadata": {},
   "outputs": [],
   "source": [
    "# Libraries\n",
    "\n",
    "import os, json, re\n",
    "import pandas as pd \n",
    "\n"
   ]
  },
  {
   "cell_type": "markdown",
   "metadata": {},
   "source": [
    "## Important Functions"
   ]
  },
  {
   "cell_type": "code",
   "execution_count": 92,
   "metadata": {},
   "outputs": [],
   "source": [
    "######### functions for pre-processing ####################################################################\n",
    "\n",
    "def extract_year_date_month(df, column):\n",
    "    '''Takes a column, converts it to datetime, and creates new columns with day, month and year\n",
    "    The new columns are named:\n",
    "        - column_weekday\n",
    "        - column_month\n",
    "        - column_year\n",
    "    '''\n",
    "    \n",
    "    # Convert column in df to datetime\n",
    "    df[column] = pd.to_datetime(df[column], unit='s')\n",
    "\n",
    "    # extract the day, month, and year components\n",
    "    df[column + '_' + 'weekday'] = df[column].dt.weekday\n",
    "    df[column + '_' + 'month'] = df[column].dt.month\n",
    "    #df[column + '_' + 'year'] = df[column].dt.year\n",
    "\n",
    "    return df\n",
    "\n",
    "\n",
    "def duration(df, column1, column2):\n",
    "    '''Returns the duration in days between 2 columns with datetime and puts it into a new colum\n",
    "        - column1: start date\n",
    "        - column2: end date\n",
    "    '''\n",
    "    df['duration_days'] = (df[column2] - df[column1]).dt.days\n",
    "\n",
    "    return df\n",
    "\n",
    "def convert_to_usd(df):\n",
    "    return round(df['goal'] * df['static_usd_rate'],2)\n",
    "\n",
    "######### functions for analysing predictions ########################################################## \n",
    "\n"
   ]
  },
  {
   "cell_type": "markdown",
   "metadata": {},
   "source": [
    "## Load data into one dataframe"
   ]
  },
  {
   "cell_type": "code",
   "execution_count": 93,
   "metadata": {},
   "outputs": [
    {
     "data": {
      "text/html": [
       "<div>\n",
       "<style scoped>\n",
       "    .dataframe tbody tr th:only-of-type {\n",
       "        vertical-align: middle;\n",
       "    }\n",
       "\n",
       "    .dataframe tbody tr th {\n",
       "        vertical-align: top;\n",
       "    }\n",
       "\n",
       "    .dataframe thead th {\n",
       "        text-align: right;\n",
       "    }\n",
       "</style>\n",
       "<table border=\"1\" class=\"dataframe\">\n",
       "  <thead>\n",
       "    <tr style=\"text-align: right;\">\n",
       "      <th></th>\n",
       "      <th>backers_count</th>\n",
       "      <th>category</th>\n",
       "      <th>country</th>\n",
       "      <th>creator</th>\n",
       "      <th>spotlight</th>\n",
       "      <th>staff_pick</th>\n",
       "      <th>state</th>\n",
       "      <th>static_usd_rate</th>\n",
       "      <th>goal</th>\n",
       "      <th>launched_at</th>\n",
       "      <th>deadline</th>\n",
       "    </tr>\n",
       "  </thead>\n",
       "  <tbody>\n",
       "    <tr>\n",
       "      <th>0</th>\n",
       "      <td>21</td>\n",
       "      <td>{\"id\":43,\"name\":\"Rock\",\"slug\":\"music/rock\",\"po...</td>\n",
       "      <td>US</td>\n",
       "      <td>{\"id\":1495925645,\"name\":\"Daniel\",\"is_registere...</td>\n",
       "      <td>True</td>\n",
       "      <td>False</td>\n",
       "      <td>successful</td>\n",
       "      <td>1.000000</td>\n",
       "      <td>200.0</td>\n",
       "      <td>1388011046</td>\n",
       "      <td>1391899046</td>\n",
       "    </tr>\n",
       "    <tr>\n",
       "      <th>1</th>\n",
       "      <td>97</td>\n",
       "      <td>{\"id\":54,\"name\":\"Mixed Media\",\"slug\":\"art/mixe...</td>\n",
       "      <td>US</td>\n",
       "      <td>{\"id\":1175589980,\"name\":\"Katherine\",\"slug\":\"fr...</td>\n",
       "      <td>True</td>\n",
       "      <td>False</td>\n",
       "      <td>successful</td>\n",
       "      <td>1.000000</td>\n",
       "      <td>400.0</td>\n",
       "      <td>1550073611</td>\n",
       "      <td>1551801611</td>\n",
       "    </tr>\n",
       "    <tr>\n",
       "      <th>2</th>\n",
       "      <td>88</td>\n",
       "      <td>{\"id\":280,\"name\":\"Photobooks\",\"slug\":\"photogra...</td>\n",
       "      <td>US</td>\n",
       "      <td>{\"id\":1196856269,\"name\":\"MelissaThomas\",\"is_re...</td>\n",
       "      <td>True</td>\n",
       "      <td>True</td>\n",
       "      <td>successful</td>\n",
       "      <td>1.000000</td>\n",
       "      <td>27224.0</td>\n",
       "      <td>1478012330</td>\n",
       "      <td>1480607930</td>\n",
       "    </tr>\n",
       "    <tr>\n",
       "      <th>3</th>\n",
       "      <td>193</td>\n",
       "      <td>{\"id\":266,\"name\":\"Footwear\",\"slug\":\"fashion/fo...</td>\n",
       "      <td>IT</td>\n",
       "      <td>{\"id\":1569700626,\"name\":\"WAO\",\"slug\":\"wearewao...</td>\n",
       "      <td>True</td>\n",
       "      <td>False</td>\n",
       "      <td>successful</td>\n",
       "      <td>1.136525</td>\n",
       "      <td>40000.0</td>\n",
       "      <td>1540684582</td>\n",
       "      <td>1544309940</td>\n",
       "    </tr>\n",
       "    <tr>\n",
       "      <th>4</th>\n",
       "      <td>20</td>\n",
       "      <td>{\"id\":51,\"name\":\"Software\",\"slug\":\"technology/...</td>\n",
       "      <td>US</td>\n",
       "      <td>{\"id\":1870845385,\"name\":\"Kalpit Jain\",\"is_regi...</td>\n",
       "      <td>False</td>\n",
       "      <td>False</td>\n",
       "      <td>failed</td>\n",
       "      <td>1.000000</td>\n",
       "      <td>1000.0</td>\n",
       "      <td>1425919017</td>\n",
       "      <td>1428511017</td>\n",
       "    </tr>\n",
       "  </tbody>\n",
       "</table>\n",
       "</div>"
      ],
      "text/plain": [
       "   backers_count                                           category country   \n",
       "0             21  {\"id\":43,\"name\":\"Rock\",\"slug\":\"music/rock\",\"po...      US  \\\n",
       "1             97  {\"id\":54,\"name\":\"Mixed Media\",\"slug\":\"art/mixe...      US   \n",
       "2             88  {\"id\":280,\"name\":\"Photobooks\",\"slug\":\"photogra...      US   \n",
       "3            193  {\"id\":266,\"name\":\"Footwear\",\"slug\":\"fashion/fo...      IT   \n",
       "4             20  {\"id\":51,\"name\":\"Software\",\"slug\":\"technology/...      US   \n",
       "\n",
       "                                             creator  spotlight  staff_pick   \n",
       "0  {\"id\":1495925645,\"name\":\"Daniel\",\"is_registere...       True       False  \\\n",
       "1  {\"id\":1175589980,\"name\":\"Katherine\",\"slug\":\"fr...       True       False   \n",
       "2  {\"id\":1196856269,\"name\":\"MelissaThomas\",\"is_re...       True        True   \n",
       "3  {\"id\":1569700626,\"name\":\"WAO\",\"slug\":\"wearewao...       True       False   \n",
       "4  {\"id\":1870845385,\"name\":\"Kalpit Jain\",\"is_regi...      False       False   \n",
       "\n",
       "        state  static_usd_rate     goal  launched_at    deadline  \n",
       "0  successful         1.000000    200.0   1388011046  1391899046  \n",
       "1  successful         1.000000    400.0   1550073611  1551801611  \n",
       "2  successful         1.000000  27224.0   1478012330  1480607930  \n",
       "3  successful         1.136525  40000.0   1540684582  1544309940  \n",
       "4      failed         1.000000   1000.0   1425919017  1428511017  "
      ]
     },
     "execution_count": 93,
     "metadata": {},
     "output_type": "execute_result"
    }
   ],
   "source": [
    "directory = 'Kickstarter_data/'\n",
    "data = pd.DataFrame()\n",
    "relevant_columns = ['backers_count', 'category', 'country', 'creator', 'spotlight', 'staff_pick', 'state', 'static_usd_rate', 'goal', 'launched_at', 'deadline']\n",
    "\n",
    "for file in sorted(os.listdir(directory)):\n",
    "    df_temp = pd.read_csv(directory+file)\n",
    "    data = pd.concat([data, df_temp[relevant_columns]], ignore_index=True)\n",
    "\n",
    "data.head()"
   ]
  },
  {
   "cell_type": "markdown",
   "metadata": {},
   "source": [
    "## Work on the json string columns"
   ]
  },
  {
   "cell_type": "markdown",
   "metadata": {},
   "source": [
    "### Extract the 'slug' parameter from the category column and drop the category column"
   ]
  },
  {
   "cell_type": "code",
   "execution_count": 94,
   "metadata": {},
   "outputs": [],
   "source": [
    "cat_data = data[\"category\"].apply(json.loads)\n",
    "cat_data = pd.DataFrame(cat_data.tolist())\n",
    "data['slug'] = cat_data['slug']\n",
    "data = data.drop(\"category\", axis=1)"
   ]
  },
  {
   "cell_type": "markdown",
   "metadata": {},
   "source": [
    "### Extract the ID from the creator column and drop the creator column"
   ]
  },
  {
   "cell_type": "code",
   "execution_count": 95,
   "metadata": {},
   "outputs": [],
   "source": [
    "data[\"creator_id\"] = data[\"creator\"].apply(lambda x: re.findall(r'\\d+', x)[0])\n",
    "data = data.drop(\"creator\", axis=1)\n"
   ]
  },
  {
   "cell_type": "markdown",
   "metadata": {},
   "source": [
    "## Work on the datetime columns"
   ]
  },
  {
   "cell_type": "markdown",
   "metadata": {},
   "source": [
    "### Convert date-data to type date.time()"
   ]
  },
  {
   "cell_type": "code",
   "execution_count": 96,
   "metadata": {},
   "outputs": [],
   "source": [
    "data['launched_at'] = pd.to_datetime(data['launched_at'], unit='s')\n",
    "data['deadline'] = pd.to_datetime(data['deadline'], unit='s')"
   ]
  },
  {
   "cell_type": "markdown",
   "metadata": {},
   "source": [
    "### Extract weekday and month of kickstarter project launch, as well as the duration of the kickstarter project and drop the \"launched_at\" and \"deadline\" column"
   ]
  },
  {
   "cell_type": "code",
   "execution_count": 97,
   "metadata": {},
   "outputs": [],
   "source": [
    "data = extract_year_date_month(data, 'launched_at')\n",
    "data = duration(data, 'launched_at', 'deadline')\n",
    "\n",
    "data = data.drop(['launched_at', 'deadline'], axis=1)"
   ]
  },
  {
   "cell_type": "markdown",
   "metadata": {},
   "source": [
    "### Convert unit of \"goal\" to USD and drop \"static_usd_rate\" and \"goal\" column"
   ]
  },
  {
   "cell_type": "code",
   "execution_count": 98,
   "metadata": {},
   "outputs": [],
   "source": [
    "data['goal_in_usd'] = data.apply(convert_to_usd, axis=1)\n",
    "data = data.drop(['static_usd_rate', 'goal'], axis=1)"
   ]
  },
  {
   "cell_type": "code",
   "execution_count": 99,
   "metadata": {},
   "outputs": [
    {
     "data": {
      "text/html": [
       "<div>\n",
       "<style scoped>\n",
       "    .dataframe tbody tr th:only-of-type {\n",
       "        vertical-align: middle;\n",
       "    }\n",
       "\n",
       "    .dataframe tbody tr th {\n",
       "        vertical-align: top;\n",
       "    }\n",
       "\n",
       "    .dataframe thead th {\n",
       "        text-align: right;\n",
       "    }\n",
       "</style>\n",
       "<table border=\"1\" class=\"dataframe\">\n",
       "  <thead>\n",
       "    <tr style=\"text-align: right;\">\n",
       "      <th></th>\n",
       "      <th>backers_count</th>\n",
       "      <th>country</th>\n",
       "      <th>spotlight</th>\n",
       "      <th>staff_pick</th>\n",
       "      <th>state</th>\n",
       "      <th>slug</th>\n",
       "      <th>creator_id</th>\n",
       "      <th>launched_at_weekday</th>\n",
       "      <th>launched_at_month</th>\n",
       "      <th>duration_days</th>\n",
       "      <th>goal_in_usd</th>\n",
       "    </tr>\n",
       "  </thead>\n",
       "  <tbody>\n",
       "    <tr>\n",
       "      <th>0</th>\n",
       "      <td>21</td>\n",
       "      <td>US</td>\n",
       "      <td>True</td>\n",
       "      <td>False</td>\n",
       "      <td>successful</td>\n",
       "      <td>music/rock</td>\n",
       "      <td>1495925645</td>\n",
       "      <td>2</td>\n",
       "      <td>12</td>\n",
       "      <td>45</td>\n",
       "      <td>200.0</td>\n",
       "    </tr>\n",
       "    <tr>\n",
       "      <th>1</th>\n",
       "      <td>97</td>\n",
       "      <td>US</td>\n",
       "      <td>True</td>\n",
       "      <td>False</td>\n",
       "      <td>successful</td>\n",
       "      <td>art/mixed media</td>\n",
       "      <td>1175589980</td>\n",
       "      <td>2</td>\n",
       "      <td>2</td>\n",
       "      <td>20</td>\n",
       "      <td>400.0</td>\n",
       "    </tr>\n",
       "    <tr>\n",
       "      <th>2</th>\n",
       "      <td>88</td>\n",
       "      <td>US</td>\n",
       "      <td>True</td>\n",
       "      <td>True</td>\n",
       "      <td>successful</td>\n",
       "      <td>photography/photobooks</td>\n",
       "      <td>1196856269</td>\n",
       "      <td>1</td>\n",
       "      <td>11</td>\n",
       "      <td>30</td>\n",
       "      <td>27224.0</td>\n",
       "    </tr>\n",
       "    <tr>\n",
       "      <th>3</th>\n",
       "      <td>193</td>\n",
       "      <td>IT</td>\n",
       "      <td>True</td>\n",
       "      <td>False</td>\n",
       "      <td>successful</td>\n",
       "      <td>fashion/footwear</td>\n",
       "      <td>1569700626</td>\n",
       "      <td>5</td>\n",
       "      <td>10</td>\n",
       "      <td>41</td>\n",
       "      <td>45461.0</td>\n",
       "    </tr>\n",
       "    <tr>\n",
       "      <th>4</th>\n",
       "      <td>20</td>\n",
       "      <td>US</td>\n",
       "      <td>False</td>\n",
       "      <td>False</td>\n",
       "      <td>failed</td>\n",
       "      <td>technology/software</td>\n",
       "      <td>1870845385</td>\n",
       "      <td>0</td>\n",
       "      <td>3</td>\n",
       "      <td>30</td>\n",
       "      <td>1000.0</td>\n",
       "    </tr>\n",
       "  </tbody>\n",
       "</table>\n",
       "</div>"
      ],
      "text/plain": [
       "   backers_count country  spotlight  staff_pick       state   \n",
       "0             21      US       True       False  successful  \\\n",
       "1             97      US       True       False  successful   \n",
       "2             88      US       True        True  successful   \n",
       "3            193      IT       True       False  successful   \n",
       "4             20      US      False       False      failed   \n",
       "\n",
       "                     slug  creator_id  launched_at_weekday  launched_at_month   \n",
       "0              music/rock  1495925645                    2                 12  \\\n",
       "1         art/mixed media  1175589980                    2                  2   \n",
       "2  photography/photobooks  1196856269                    1                 11   \n",
       "3        fashion/footwear  1569700626                    5                 10   \n",
       "4     technology/software  1870845385                    0                  3   \n",
       "\n",
       "   duration_days  goal_in_usd  \n",
       "0             45        200.0  \n",
       "1             20        400.0  \n",
       "2             30      27224.0  \n",
       "3             41      45461.0  \n",
       "4             30       1000.0  "
      ]
     },
     "execution_count": 99,
     "metadata": {},
     "output_type": "execute_result"
    }
   ],
   "source": [
    "data.head()"
   ]
  }
 ],
 "metadata": {
  "kernelspec": {
   "display_name": ".venv",
   "language": "python",
   "name": "python3"
  },
  "language_info": {
   "codemirror_mode": {
    "name": "ipython",
    "version": 3
   },
   "file_extension": ".py",
   "mimetype": "text/x-python",
   "name": "python",
   "nbconvert_exporter": "python",
   "pygments_lexer": "ipython3",
   "version": "3.11.3"
  }
 },
 "nbformat": 4,
 "nbformat_minor": 2
}
