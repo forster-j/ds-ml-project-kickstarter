{
 "cells": [
  {
   "cell_type": "markdown",
   "metadata": {},
   "source": [
    "# Data cleaning and Explorative Data Analysis\n",
    "\n",
    "In this notebook, data cleaning and an explorative data analysis were performed. \n"
   ]
  },
  {
   "cell_type": "code",
   "execution_count": null,
   "metadata": {},
   "outputs": [],
   "source": [
    "# libraries needed\n",
    "import pandas as pd \n",
    "import pickle, os, json, re\n",
    "import seaborn as sns\n",
    "import matplotlib.pyplot as plt\n",
    "import numpy as np"
   ]
  },
  {
   "cell_type": "markdown",
   "metadata": {},
   "source": [
    "##### Data cleaning"
   ]
  },
  {
   "cell_type": "markdown",
   "metadata": {},
   "source": [
    "Relevant columns were decided on informations that could influence the goal achievement and informations that clients had available before a potential campaign launch. The relevant columns included:\\\n",
    "**category** (of the project), **country**, **goal** (requiring the use of the **static_usd_rate** column, as not all goals were in USD) and the **launched_at** and **deadline** column to extract information of a campaigns duration and possible information with month or even day of the week will most likely leed to a successfull campaign. \\\n",
    "Further, the **state** column, having information about a campaigns state (e.g. success and fail) was included as target column and the **creator** column was included to eradicate possible duplicates. "
   ]
  },
  {
   "cell_type": "code",
   "execution_count": null,
   "metadata": {},
   "outputs": [],
   "source": [
    "directory = 'Kickstarter_data/'\n",
    "data = pd.DataFrame()\n",
    "relevant_columns = ['category', 'country', 'creator', 'state', 'static_usd_rate', 'goal', 'launched_at', 'deadline']\n",
    "\n",
    "for file in sorted(os.listdir(directory)):\n",
    "    df_temp = pd.read_csv(directory+file)\n",
    "    data = pd.concat([data, df_temp[relevant_columns]], ignore_index=True)\n",
    "\n",
    "data.head()\n"
   ]
  },
  {
   "cell_type": "code",
   "execution_count": null,
   "metadata": {},
   "outputs": [],
   "source": [
    "data.info()"
   ]
  },
  {
   "cell_type": "code",
   "execution_count": null,
   "metadata": {},
   "outputs": [],
   "source": [
    "############ clean data of duplicates ################################################################################\n",
    "\n",
    "data = data.drop_duplicates(ignore_index =True)   \n",
    "data.info()"
   ]
  },
  {
   "cell_type": "markdown",
   "metadata": {},
   "source": [
    "In total **2 duplicates** were eliminated. \\\n",
    "Furtnermore, by looking at the data-information, non of the columns contains null-values in any of the 209220 rows. "
   ]
  },
  {
   "cell_type": "code",
   "execution_count": null,
   "metadata": {},
   "outputs": [],
   "source": [
    "### Looking at the target column\n",
    "data.state.value_counts()"
   ]
  },
  {
   "cell_type": "markdown",
   "metadata": {},
   "source": [
    "Investigating the target column reveals 5 types of entries, _successful_ which will be our 1 for the classification, _live_, marking rows that'll need to be excluded due to the uncertain outcome, _failed_, _canceled_ and _suspended_. Aiming at predicting successes, _failed_, _canceled_ and _suspended_ will be combined to our 0 for the classification."
   ]
  },
  {
   "cell_type": "code",
   "execution_count": null,
   "metadata": {},
   "outputs": [],
   "source": [
    "data = data[data['state'] != 'live']                                            #exclude campaigns with state live \n",
    "data = data.reset_index(drop=True)\n",
    "data['state'] = data['state'].apply(lambda x: 1 if x == 'successful' else 0)    #assign 1 to successfull campaigns and 0 to the rest\n",
    "p_success = len(data[data['state'] == 1]) * 100/len(data)\n",
    "p_fail = len(data[data['state'] == 0]) * 100/len(data)\n",
    "print('Out of the campaigns in the dataset ', p_success, 'percent were successfull, and ', p_fail, 'percent were not successful.')"
   ]
  },
  {
   "cell_type": "markdown",
   "metadata": {},
   "source": [
    "Out of the campaigns in the dataset  58.18 % were successfull, and 41.82 % were not successful. This means our dataset is slightly imbalanced. "
   ]
  },
  {
   "cell_type": "markdown",
   "metadata": {},
   "source": [
    "Investigating the country column"
   ]
  },
  {
   "cell_type": "code",
   "execution_count": null,
   "metadata": {},
   "outputs": [],
   "source": [
    "sns.histplot(data.country, stat='percent')\n",
    "plt.title('Percantage of total campaigns per country')\n",
    "plt.savefig('images/EDA/Campaigns_per_Country.png', dpi=600)"
   ]
  },
  {
   "cell_type": "markdown",
   "metadata": {},
   "source": [
    "As visible from the histogram, more than 70% of the campaigns were launched from the United States, followed by Great Britain with slightly more than 10% and Canada with roughly 5%. This observation is not unexpected as Kickstarter is a US website.\\\n",
    "Due to the large amount of campaigns from the United States we decided to somehow cluster the countries. As Kickstarter campaigns are connected to products being delivered to the persons giving money, we decided to group by _North America_ (US and CA) against _Non-North America_ or in others words: short way to transport the product against a long way to transport the product to the people giving money."
   ]
  },
  {
   "cell_type": "code",
   "execution_count": null,
   "metadata": {},
   "outputs": [],
   "source": [
    "# Define a new column \"north america\", including a 1 in case of a campaign being launched from the united states or canada and a 0 otherwise\n",
    "data[\"north_america\"] = data[\"country\"].apply(lambda x: 1 if x in ['US', 'CA'] else 0)\n",
    "data[[\"country\", \"north_america\"]]"
   ]
  },
  {
   "cell_type": "markdown",
   "metadata": {},
   "source": [
    "Due to the campaigns different countries of origin, the goals are given in differnet currencies. Consequently the goals needed to be transformed to one currency, for which we chose USD because the static_usd_rate was provided in the original dataset. "
   ]
  },
  {
   "cell_type": "code",
   "execution_count": null,
   "metadata": {},
   "outputs": [],
   "source": [
    "data['goal'] = round(data['goal'] * data['static_usd_rate'],2)"
   ]
  },
  {
   "cell_type": "code",
   "execution_count": null,
   "metadata": {},
   "outputs": [],
   "source": [
    "data.goal.describe()"
   ]
  },
  {
   "cell_type": "markdown",
   "metadata": {},
   "source": [
    "As visible from the description, the lowest goal is 0.01 USD and the highest goal is 152350100.00 USD as the majority of projects are located between 1500.00 USD and 13000.00 USD we were curious regarding the amount of success and failiure regarding the oultiers."
   ]
  },
  {
   "cell_type": "code",
   "execution_count": null,
   "metadata": {},
   "outputs": [],
   "source": [
    "sns.kdeplot(data, x='goal', hue='state')\n",
    "plt.title('Goals with respect to the state')\n",
    "plt.savefig('images/EDA/Goals_regarding_state.png', dpi=600)"
   ]
  },
  {
   "cell_type": "markdown",
   "metadata": {},
   "source": [
    "Looking at the distribution of goals, it becomes obvious that the extremely high goals are not only extremely rare, but also unsuccessfull. When investigating the projects further, it became obvious, that the projects with extremely high goals appeared unrealistic and/or nonserious. Therefore we decided to draw a line at 1000000 USD and advice clients who aim for a higher goal, that a successfull campaign is rather unlikely. It was decided to use 1000000 USD as a maximum goal, as some projects slightly above 1 Million Dollar were successfull."
   ]
  },
  {
   "cell_type": "code",
   "execution_count": null,
   "metadata": {},
   "outputs": [],
   "source": [
    "data = data[data['goal'] < 1000000]\n",
    "data = data.reset_index(drop=True)\n",
    "sns.kdeplot(data, x='goal', hue='state')\n",
    "plt.title('Goals below 1Mio with respect to the state')\n",
    "plt.savefig('images/EDA/Goals_regarding_state_below_1M.png', dpi=600)"
   ]
  },
  {
   "cell_type": "markdown",
   "metadata": {},
   "source": [
    "The category column contains information in a json string format"
   ]
  },
  {
   "cell_type": "code",
   "execution_count": null,
   "metadata": {},
   "outputs": [],
   "source": [
    "data.info()\n"
   ]
  },
  {
   "cell_type": "code",
   "execution_count": null,
   "metadata": {},
   "outputs": [],
   "source": [
    "cat_data = pd.DataFrame(data[\"category\"].apply(json.loads).tolist())"
   ]
  },
  {
   "cell_type": "code",
   "execution_count": null,
   "metadata": {},
   "outputs": [],
   "source": [
    "cat_data.info()"
   ]
  },
  {
   "cell_type": "code",
   "execution_count": null,
   "metadata": {},
   "outputs": [],
   "source": [
    "cat_data.tail()"
   ]
  },
  {
   "cell_type": "code",
   "execution_count": null,
   "metadata": {},
   "outputs": [],
   "source": [
    "cat_data.slug"
   ]
  },
  {
   "cell_type": "markdown",
   "metadata": {},
   "source": [
    "Looking at the different entries we had to decide between name and slug, where slug included the name, as well as the \"parent\"-category. Consequently we decided to add the information of slug as a new column to our dataframe. "
   ]
  },
  {
   "cell_type": "code",
   "execution_count": null,
   "metadata": {},
   "outputs": [],
   "source": [
    "data['slug'] = cat_data['slug']\n",
    "data.slug.nunique()"
   ]
  },
  {
   "cell_type": "code",
   "execution_count": null,
   "metadata": {},
   "outputs": [],
   "source": [
    "data.info()"
   ]
  },
  {
   "cell_type": "markdown",
   "metadata": {},
   "source": [
    "As slug contains 169 different entries, most of which are very specific, we decided to focus on the parent categories e.g. technology, fashion, music. "
   ]
  },
  {
   "cell_type": "code",
   "execution_count": null,
   "metadata": {},
   "outputs": [],
   "source": [
    "data[\"slug\"] = data[\"slug\"].apply(lambda x: re.split(r'/', x)[0])"
   ]
  },
  {
   "cell_type": "code",
   "execution_count": null,
   "metadata": {},
   "outputs": [],
   "source": [
    "print('Number of project categories: ',data.slug.nunique())\n",
    "sns.histplot(data, x='slug', hue='state', multiple='stack', palette='viridis')\n",
    "plt.title('Projects per Category with respect to success (state = 1) and fail (state = 0)')\n",
    "plt.xticks(rotation=90)\n",
    "plt.xlabel('Project Category')\n",
    "plt.savefig('images/EDA/Projects_per_Category.png', dpi=600)\n",
    "\n"
   ]
  },
  {
   "cell_type": "markdown",
   "metadata": {},
   "source": [
    "As visible from the histogram, the majority of campaigns launched on Kickstarter are from the categories _film/video_ and _music_, while the least amount of campaign were launched in the category _dance_, followed by _journalism_. When looking at the amount of failed an successfull campaigns, it becomes abvious, that for the majority of categorys more than 50% of the campaigns succeed, with _dance_ and _comics_ being the relatively most successful categories. However, there are some exceptions, namely _technology_, _food_ and _journalism_."
   ]
  },
  {
   "cell_type": "markdown",
   "metadata": {},
   "source": [
    "As seen when looking at the dataframe info, the columns contain floats, instead of datetime objects. "
   ]
  },
  {
   "cell_type": "code",
   "execution_count": null,
   "metadata": {},
   "outputs": [],
   "source": [
    "data.info()"
   ]
  },
  {
   "cell_type": "code",
   "execution_count": null,
   "metadata": {},
   "outputs": [],
   "source": [
    "# transform columns containing dates to datetime \n",
    "data['launched_at'] = pd.to_datetime(data['launched_at'], unit='s')\n",
    "data['deadline'] = pd.to_datetime(data['deadline'], unit='s')"
   ]
  },
  {
   "cell_type": "code",
   "execution_count": null,
   "metadata": {},
   "outputs": [],
   "source": [
    "data.info()"
   ]
  },
  {
   "cell_type": "markdown",
   "metadata": {},
   "source": [
    "A saying about launching campaigns is to do it on tuesdays for the highest success. We aimed at finding out whether this saying holds true, and wether we might gain more insight on which days of the week and which months of the year might be most advisable for a campaign launch. \\\n",
    "Therefore we added columns including information about the weekday and month of the launch. "
   ]
  },
  {
   "cell_type": "code",
   "execution_count": null,
   "metadata": {},
   "outputs": [],
   "source": [
    "# extract the day and month components\n",
    "data['launched_at_weekday'] = data['launched_at'].dt.weekday\n",
    "data['launched_at_month'] = data['launched_at'].dt.month"
   ]
  },
  {
   "cell_type": "code",
   "execution_count": null,
   "metadata": {},
   "outputs": [],
   "source": [
    "data.head()"
   ]
  },
  {
   "cell_type": "markdown",
   "metadata": {},
   "source": [
    "It was found that the 0th weekday is the Monday and the 1st month is January"
   ]
  },
  {
   "cell_type": "code",
   "execution_count": null,
   "metadata": {},
   "outputs": [],
   "source": [
    "days = ['Mon', 'Tue', 'Wed', 'Thu', 'Fri', 'Sat', 'Sun']\n",
    "\n",
    "sns.histplot(data, x='launched_at_weekday', hue='state', multiple='stack', discrete= True, palette='viridis')\n",
    "plt.title('Projects per Weekday with respect to success (state = 1) and fail (state = 0)')\n",
    "plt.xticks(ticks = np.arange(0,7),labels = days)\n",
    "plt.xlabel('Day of the Week')\n",
    "plt.savefig('images/EDA/Projects_per_Weekday.png', dpi=600)"
   ]
  },
  {
   "cell_type": "markdown",
   "metadata": {},
   "source": [
    "The histogram shows that in fact most of the campaigns are launched on tuesdays, while least of the campaigns are launched on the weekends. To get a clearer view on which weekday is connected to the highest rate of successfull campaigns, we need to look at the percentages of successfull campaigns per weekdays."
   ]
  },
  {
   "cell_type": "code",
   "execution_count": null,
   "metadata": {},
   "outputs": [],
   "source": [
    "from matplotlib import ticker\n",
    "days = ['Mon', 'Tue', 'Wed', 'Thu', 'Fri', 'Sat', 'Sun']\n",
    "ax = sns.histplot(data, y='launched_at_weekday', hue='state', multiple='fill', palette='viridis', discrete=True, bins = 7)\n",
    "sns.move_legend(ax, loc=\"upper left\", bbox_to_anchor=(1,1))\n",
    "for p in ax.patches:\n",
    "        h = p.get_width()\n",
    "        if h > 0: # skip empty bars\n",
    "            txt = f'{h * 100:.2f} %'\n",
    "            txt_y = p.get_y() + p.get_height() / 2\n",
    "            txt_x = p.get_x() + h / 2\n",
    "            ax.text(txt_x, txt_y, txt, ha='center', va='center')\n",
    "# for bars in ax.containers:\n",
    "#     heights = [b.get_height() for b in bars]\n",
    "#     labels = [f'{h * 100:.1f}%' if h > 0.001 else '' for h in heights]\n",
    "#     #ax.bar_label(bars, labels=labels, label_type='center')\n",
    "ax.xaxis.set_major_formatter(ticker.PercentFormatter(1))\n",
    "ax.yaxis.set_major_locator(ticker.FixedLocator(np.arange(0,7)))\n",
    "ax.yaxis.set_major_formatter(ticker.FixedFormatter(days))\n",
    "ax.set_title('Percentage of successfull (state = 1) and failed (state = 0) campaigns per Weekday')\n",
    "ax.set_ylabel('Day of the Week')\n",
    "ax.set_xlabel('Percentage')\n",
    "ax.figure.savefig('images/EDA/Projects_per_Weekday_success_percantage.png',dpi=600)\n"
   ]
  },
  {
   "cell_type": "markdown",
   "metadata": {},
   "source": [
    "It is visible, that the chance of a successfull campaign is in fact slightly higher on Tuesdays compared to other days of the week and the lowest on Saturdays. \\\n",
    "Now we wanted to look at the influence of the months."
   ]
  },
  {
   "cell_type": "code",
   "execution_count": null,
   "metadata": {},
   "outputs": [],
   "source": [
    "month = ['Jan', 'Feb', 'Mar', 'Apr', 'May', 'Jun', 'Jul', 'Aug', 'Sep', 'Oct', 'Nov', 'Dec']\n",
    "\n",
    "ax = sns.histplot(data, x='launched_at_month', hue='state', multiple='stack', discrete = True, palette='viridis')\n",
    "sns.move_legend(ax, loc=\"upper left\", bbox_to_anchor=(1,1))\n",
    "ax.set_title('Projects per Month with respect to success (state = 1) and fail (state = 0)')\n",
    "ax.xaxis.set_major_locator(ticker.FixedLocator(np.arange(1,13)))            # ?????????? haha - comment by genus\n",
    "ax.xaxis.set_major_formatter(ticker.FixedFormatter(month))\n",
    "ax.set_xlabel('Month of the Year')\n",
    "\n",
    "plt.savefig('images/EDA/Projects_per_month.png', dpi=600)"
   ]
  },
  {
   "cell_type": "code",
   "execution_count": null,
   "metadata": {},
   "outputs": [],
   "source": [
    "month = ['Jan', 'Feb', 'Mar', 'Apr', 'May', 'Jun', 'Jul', 'Aug', 'Sep', 'Oct', 'Nov', 'Dec']\n",
    "\n",
    "ax = sns.histplot(data, y='launched_at_month', hue='state', multiple='fill', palette='viridis', discrete=True, bins = 12)\n",
    "sns.move_legend(ax, loc=\"upper left\", bbox_to_anchor=(1,1))\n",
    "for p in ax.patches:\n",
    "        h = p.get_width()\n",
    "        if h > 0: # skip empty bars\n",
    "            txt = f'{h * 100:.2f} %'\n",
    "            txt_y = p.get_y() + p.get_height() / 2\n",
    "            txt_x = p.get_x() + h / 2\n",
    "            ax.text(txt_x, txt_y, txt, ha='center', va='center')\n",
    "ax.xaxis.set_major_formatter(ticker.PercentFormatter(1))\n",
    "ax.yaxis.set_major_locator(ticker.FixedLocator(np.arange(1,13)))\n",
    "ax.yaxis.set_major_formatter(ticker.FixedFormatter(month))\n",
    "ax.set_title('Percentage of successfull (state = 1) and failed (state = 0) campaigns per month')\n",
    "ax.set_ylabel('Month of the Year')\n",
    "ax.set_xlabel('Percentage')\n",
    "ax.figure.savefig('images/EDA/Projects_per_month_success_percantage.png',dpi=600)\n"
   ]
  },
  {
   "cell_type": "markdown",
   "metadata": {},
   "source": [
    "Regarding the month in which a campaign is launched, it is seen, that October and July are the months with the most campaign launches, while the least campaigns are launched in December. Regarding the success of launched campaigns, campaigns launched in October appear to be slightly more likely to succeed, while campaigns launched in July or December are less likely to succeed."
   ]
  },
  {
   "cell_type": "markdown",
   "metadata": {},
   "source": [
    "Another feature that we assumed to siginificantly contribute to a campaigns success and should be known about before launching a campaign is its duration. Therefore we calucalted the duration using the launched_at and the deadline columns"
   ]
  },
  {
   "cell_type": "code",
   "execution_count": null,
   "metadata": {},
   "outputs": [],
   "source": [
    "data['duration_days'] = (data[\"deadline\"] - data[\"launched_at\"]).dt.days"
   ]
  },
  {
   "cell_type": "code",
   "execution_count": null,
   "metadata": {},
   "outputs": [],
   "source": [
    "data.info()"
   ]
  },
  {
   "cell_type": "code",
   "execution_count": null,
   "metadata": {},
   "outputs": [],
   "source": [
    "sns.kdeplot(data, x='duration_days', hue='state')\n",
    "plt.savefig('images/EDA/Duration_regarding_state.png', dpi=600)"
   ]
  },
  {
   "cell_type": "code",
   "execution_count": null,
   "metadata": {},
   "outputs": [],
   "source": [
    "ax = sns.boxplot(data=data, y='duration_days', x='state', saturation=0.6)\n",
    "ax.axhline(30, color=\"0.3\", dashes=(2,2))\n",
    "ax.figure.savefig('images/EDA/Duration_success_fail_boxplot.png',dpi=600)\n"
   ]
  },
  {
   "cell_type": "markdown",
   "metadata": {},
   "source": [
    "From the kernel density estimate it appears that the majority of campaigns runs for roughly one month (approx. 30 days). Especially regarding the unsuccessfull campaigns, a second peak can be seen at roughly two months (approx. 60 days)."
   ]
  },
  {
   "cell_type": "markdown",
   "metadata": {},
   "source": [
    "Drop unnecessary columns: _category_, _country_, _creator_, _static_usd_rate_, _launched_at_, _deadline_, "
   ]
  },
  {
   "cell_type": "code",
   "execution_count": null,
   "metadata": {},
   "outputs": [],
   "source": [
    "# Execute only once! \n",
    "print(data.columns)\n",
    "data = data.drop(['category', 'country', 'creator', 'static_usd_rate', 'launched_at', 'deadline'], axis =1)\n",
    "print(data.columns)"
   ]
  },
  {
   "cell_type": "markdown",
   "metadata": {},
   "source": [
    "Finally a pairplot gives an overview about how the data is connected."
   ]
  },
  {
   "cell_type": "code",
   "execution_count": null,
   "metadata": {},
   "outputs": [],
   "source": [
    "sns.pairplot(data, hue='state')\n",
    "plt.savefig('images/EDA/pairplot_relevant_features.png', dpi=600)"
   ]
  }
 ],
 "metadata": {
  "kernelspec": {
   "display_name": ".venv",
   "language": "python",
   "name": "python3"
  },
  "language_info": {
   "codemirror_mode": {
    "name": "ipython",
    "version": 3
   },
   "file_extension": ".py",
   "mimetype": "text/x-python",
   "name": "python",
   "nbconvert_exporter": "python",
   "pygments_lexer": "ipython3",
   "version": "3.11.3"
  }
 },
 "nbformat": 4,
 "nbformat_minor": 2
}
