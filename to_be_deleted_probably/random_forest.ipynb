{
 "cells": [
  {
   "cell_type": "markdown",
   "metadata": {},
   "source": [
    "# Make a Random Forest model using bagging"
   ]
  },
  {
   "cell_type": "code",
   "execution_count": null,
   "metadata": {},
   "outputs": [],
   "source": [
    "import pandas as pd\n",
    "import seaborn as sns\n",
    "from sklearn.ensemble import RandomForestClassifier\n",
    "from sklearn.datasets import make_classification\n",
    "from sklearn.model_selection import train_test_split, GridSearchCV, RandomizedSearchCV\n",
    "from sklearn.metrics import classification_report, confusion_matrix, precision_score\n",
    "\n",
    "RSEED = 42"
   ]
  },
  {
   "cell_type": "markdown",
   "metadata": {},
   "source": [
    "### Load the data"
   ]
  },
  {
   "cell_type": "code",
   "execution_count": null,
   "metadata": {},
   "outputs": [],
   "source": [
    "df = pd.read_csv('data/cleaned_data.csv')"
   ]
  },
  {
   "cell_type": "markdown",
   "metadata": {},
   "source": [
    "### Prepare Data for training"
   ]
  },
  {
   "cell_type": "code",
   "execution_count": null,
   "metadata": {},
   "outputs": [],
   "source": [
    "# Define Target and Values \n",
    "\n",
    "y = df['state'] \n",
    "X = df.drop('state', axis=1)\n",
    "\n",
    "# Train-Test split\n",
    "\n",
    "X_train, X_test, y_train, y_test  = train_test_split(X,y,random_state=RSEED, stratify=y)"
   ]
  },
  {
   "cell_type": "code",
   "execution_count": null,
   "metadata": {},
   "outputs": [],
   "source": [
    "rfc = RandomForestClassifier(random_state=RSEED, n_jobs=-1)\n",
    "rfc.fit(X_train, y_train)\n"
   ]
  },
  {
   "cell_type": "code",
   "execution_count": null,
   "metadata": {},
   "outputs": [],
   "source": [
    "y_pred_rfc = rfc.predict(X_test)"
   ]
  },
  {
   "cell_type": "code",
   "execution_count": null,
   "metadata": {},
   "outputs": [],
   "source": [
    "print(classification_report(y_test,y_pred_rfc))"
   ]
  },
  {
   "cell_type": "code",
   "execution_count": null,
   "metadata": {},
   "outputs": [],
   "source": [
    "sns.heatmap(confusion_matrix(y_test,y_pred_rfc), annot=True)"
   ]
  },
  {
   "cell_type": "markdown",
   "metadata": {},
   "source": [
    "## Perform Grid-Search "
   ]
  },
  {
   "cell_type": "code",
   "execution_count": null,
   "metadata": {},
   "outputs": [],
   "source": [
    "# define params for grid search \n",
    "params_rf = {\"n_estimators\": range(10,150,10),\n",
    "             \"criterion\": ['gini', 'entropy', 'log_loss'],\n",
    "             \"min_samples_leaf\": range(1,20),\n",
    "             \"max_features\": ['sqrt', 'log2'],\n",
    "             \"class_weight\": ['balanced','balanced_subsample'],\n",
    "             \"max_samples\": [0.1, 0.25, 0.5, 0.75, 1]\n",
    "             }\n",
    "\n",
    "#Instantiate gridsearch \n",
    "gs_rf = RandomizedSearchCV(rfc, n_iter=600, param_distributions=params_rf, cv=5, n_jobs=-1, verbose=5, scoring='precision',random_state=RSEED)\n",
    "\n",
    "#fit gridsearch object to data\n",
    "gs_rf.fit(X_train, y_train)"
   ]
  },
  {
   "cell_type": "code",
   "execution_count": null,
   "metadata": {},
   "outputs": [],
   "source": [
    "# Best score\n",
    "print('Best score:', round(gs_rf.best_score_, 3))\n",
    "# Best parameters\n",
    "print('Best parameters:', gs_rf.best_params_)\n",
    "print('----------'*8)"
   ]
  },
  {
   "cell_type": "code",
   "execution_count": null,
   "metadata": {},
   "outputs": [],
   "source": [
    "y_pred_best_random_rf = gs_rf.best_estimator_.predict(X_test)\n",
    "y_pred_proba_random_rf = gs_rf.predict_proba(X_test)[:,1]"
   ]
  },
  {
   "cell_type": "code",
   "execution_count": null,
   "metadata": {},
   "outputs": [],
   "source": [
    "print('----------'*6)\n",
    "print('Classification report:')\n",
    "print(classification_report(y_test,y_pred_best_random_rf))\n",
    "print('----------'*6)\n",
    "print('Confusion matrix:')\n",
    "sns.heatmap(confusion_matrix(y_test,y_pred_best_random_rf), annot=True, fmt='d')\n",
    "print('----------'*6)\n"
   ]
  },
  {
   "cell_type": "markdown",
   "metadata": {},
   "source": [
    "### More specified grid-search"
   ]
  },
  {
   "cell_type": "code",
   "execution_count": null,
   "metadata": {},
   "outputs": [],
   "source": [
    "# define params for grid search \n",
    "params_rf = {\"n_estimators\": range(70,110,10),\n",
    "             \"criterion\": ['gini', 'entropy', 'log_loss'],\n",
    "             \"min_samples_leaf\": range(7,15,2),\n",
    "             \"max_features\": ['sqrt', 'log2'],\n",
    "             \"class_weight\": ['balanced','balanced_subsample'],\n",
    "             \"max_samples\": [0.6, 0.7, 0.8]\n",
    "             }\n",
    "\n",
    "#Instantiate gridsearch \n",
    "gs_rf_grid = GridSearchCV(rfc, param_grid=params_rf, cv=5, n_jobs=-1, verbose=1, scoring='precision')\n",
    "\n",
    "#fit gridsearch object to data\n",
    "gs_rf_grid.fit(X_train, y_train)"
   ]
  },
  {
   "cell_type": "code",
   "execution_count": null,
   "metadata": {},
   "outputs": [],
   "source": [
    "# Best score\n",
    "print('Best score:', round(gs_rf_grid.best_score_, 3))\n",
    "# Best parameters\n",
    "print('Best parameters:', gs_rf_grid.best_params_)\n",
    "print('----------'*8)"
   ]
  },
  {
   "cell_type": "code",
   "execution_count": null,
   "metadata": {},
   "outputs": [],
   "source": [
    "y_pred_best_grid_rf = gs_rf_grid.best_estimator_.predict(X_test)\n",
    "y_pred_proba_grid_rf = gs_rf_grid.predict_proba(X_test)[:,1]"
   ]
  },
  {
   "cell_type": "code",
   "execution_count": null,
   "metadata": {},
   "outputs": [],
   "source": [
    "print('----------'*6)\n",
    "print('Classification report:')\n",
    "print(classification_report(y_test,y_pred_best_grid_rf))\n",
    "print('----------'*6)\n",
    "print('Confusion matrix:')\n",
    "sns.heatmap(confusion_matrix(y_test,y_pred_best_grid_rf), annot=True, fmt='d')\n",
    "print('----------'*6)"
   ]
  },
  {
   "cell_type": "markdown",
   "metadata": {},
   "source": [
    "## Grid_search 2 without class_weight"
   ]
  },
  {
   "cell_type": "code",
   "execution_count": null,
   "metadata": {},
   "outputs": [],
   "source": [
    "# define params for grid search \n",
    "params_rf = {\"n_estimators\": range(80,111,10),\n",
    "             \"criterion\": ['gini', 'entropy', 'log_loss'],\n",
    "             \"min_samples_leaf\": range(7,12,2),\n",
    "             \"max_features\": ['sqrt', 'log2'],\n",
    "             \"class_weight\": ['balanced','balanced_subsample'],\n",
    "             \"max_samples\": [0.9, 1.0]\n",
    "             }\n",
    "\n",
    "#Instantiate gridsearch \n",
    "gs_rf_grid_new = GridSearchCV(rfc, param_grid=params_rf, cv=5, n_jobs=-1, verbose=1, scoring='precision')\n",
    "\n",
    "#fit gridsearch object to data\n",
    "gs_rf_grid_new.fit(X_train, y_train)"
   ]
  },
  {
   "cell_type": "code",
   "execution_count": null,
   "metadata": {},
   "outputs": [],
   "source": [
    "# Best score\n",
    "print('Best score:', round(gs_rf_grid_new.best_score_, 3))\n",
    "# Best parameters\n",
    "print('Best parameters:', gs_rf_grid_new.best_params_)\n",
    "print('----------'*8)"
   ]
  },
  {
   "cell_type": "code",
   "execution_count": null,
   "metadata": {},
   "outputs": [],
   "source": [
    "y_pred_best_grid_new_rf = gs_rf_grid_new.best_estimator_.predict(X_test)\n",
    "y_pred_proba_grid_new_rf = gs_rf_grid_new.predict_proba(X_test)[:,1]"
   ]
  },
  {
   "cell_type": "code",
   "execution_count": null,
   "metadata": {},
   "outputs": [],
   "source": [
    "print('----------'*6)\n",
    "print('Classification report:')\n",
    "print(classification_report(y_test,y_pred_best_grid_new_rf))\n",
    "print('----------'*6)\n",
    "print('Confusion matrix:')\n",
    "sns.heatmap(confusion_matrix(y_test,y_pred_best_grid_new_rf), annot=True, fmt='d')\n",
    "print('----------'*6)"
   ]
  },
  {
   "cell_type": "markdown",
   "metadata": {},
   "source": [
    "### 3. Grid_search "
   ]
  },
  {
   "cell_type": "code",
   "execution_count": null,
   "metadata": {},
   "outputs": [],
   "source": [
    "# define params for grid search \n",
    "params_rf = {\"n_estimators\": range(80,111,10),\n",
    "             \"criterion\": ['gini', 'entropy', 'log_loss'],\n",
    "             \"min_samples_leaf\": range(7,12,2),\n",
    "             \"max_features\": ['sqrt', 'log2'],\n",
    "             \"max_samples\": [0.9, 1.0]\n",
    "             }"
   ]
  },
  {
   "cell_type": "code",
   "execution_count": null,
   "metadata": {},
   "outputs": [],
   "source": [
    "#Instantiate gridsearch \n",
    "gs_rf_grid_wo_weight = GridSearchCV(rfc, param_grid=params_rf, cv=5, n_jobs=-1, verbose=1, scoring='precision')\n",
    "\n",
    "#fit gridsearch object to data\n",
    "gs_rf_grid_wo_weight.fit(X_train, y_train)"
   ]
  },
  {
   "cell_type": "code",
   "execution_count": null,
   "metadata": {},
   "outputs": [],
   "source": [
    "# Best score\n",
    "print('Best score:', round(gs_rf_grid_wo_weight.best_score_, 3))\n",
    "# Best parameters\n",
    "print('Best parameters:', gs_rf_grid_wo_weight.best_params_)\n",
    "print('----------'*8)"
   ]
  },
  {
   "cell_type": "code",
   "execution_count": null,
   "metadata": {},
   "outputs": [],
   "source": [
    "y_pred_best_grid_wo_weight_rf = gs_rf_grid_wo_weight.best_estimator_.predict(X_test)\n",
    "y_pred_proba_grid_wo_weight_rf = gs_rf_grid_wo_weight.predict_proba(X_test)[:,1]"
   ]
  },
  {
   "cell_type": "code",
   "execution_count": null,
   "metadata": {},
   "outputs": [],
   "source": [
    "print('----------'*6)\n",
    "print('Classification report:')\n",
    "print(classification_report(y_test,y_pred_best_grid_wo_weight_rf))\n",
    "print('----------'*6)\n",
    "print('Confusion matrix:')\n",
    "sns.heatmap(confusion_matrix(y_test,y_pred_best_grid_wo_weight_rf), annot=True, fmt='d')\n",
    "print('----------'*6)"
   ]
  },
  {
   "cell_type": "code",
   "execution_count": null,
   "metadata": {},
   "outputs": [],
   "source": [
    "import numpy as np\n",
    "\n",
    "importances = gs_rf_grid.best_estimator_.feature_importances_\n",
    "std = np.std([tree.feature_importances_ for tree in gs_rf_grid.best_estimator_.estimators_], axis=0)"
   ]
  },
  {
   "cell_type": "code",
   "execution_count": null,
   "metadata": {},
   "outputs": [],
   "source": [
    "from sklearn.inspection import permutation_importance\n",
    "r = permutation_importance(gs_rf_grid.best_estimator_, X_val, y_val,\n",
    "                            n_repeats=30,\n",
    "                            random_state=0)\n",
    "\n",
    "for i in r.importances_mean.argsort()[::-1]:\n",
    "     if r.importances_mean[i] - 2 * r.importances_std[i] > 0:\n",
    "         print(f\"{df.feature_names[i]:<8}\"\n",
    "              f\"{r.importances_mean[i]:.3f}\"\n",
    "              f\" +/- {r.importances_std[i]:.3f}\")"
   ]
  }
 ],
 "metadata": {
  "kernelspec": {
   "display_name": ".venv",
   "language": "python",
   "name": "python3"
  },
  "language_info": {
   "codemirror_mode": {
    "name": "ipython",
    "version": 3
   },
   "file_extension": ".py",
   "mimetype": "text/x-python",
   "name": "python",
   "nbconvert_exporter": "python",
   "pygments_lexer": "ipython3",
   "version": "3.11.3"
  }
 },
 "nbformat": 4,
 "nbformat_minor": 2
}
