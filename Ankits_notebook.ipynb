{
 "cells": [
  {
   "cell_type": "markdown",
   "metadata": {},
   "source": [
    "# Kickstarter Project"
   ]
  },
  {
   "cell_type": "markdown",
   "metadata": {},
   "source": [
    "### Definition of relevant columns\n",
    "\n",
    "* backers_count: amount of people pledging money to the project                                     \n",
    "* category -> 'slug': name of the projects' specific parent- & sub-category (part of json string)\n",
    "* country: country of the projects creator \n",
    "* creator -> 'id': id of the creator -> to be used as categorical variable (part of json string)\n",
    "* goal: information on the amount of money needed to succeed in the local currency of the project\n",
    "* launched_at: start date? of the project ()\n",
    "* deadline: end date of the project ()\n",
    "* spotlight: project highlighted on the website\n",
    "* staff_pick: marked by a staff member of kickstarter (more attention drawn towards project)\n",
    "* state: (successful/failed/canceled/live/suspended) -> exclude 'live' and combine 'canceled', 'suspended' with 'failed'\n",
    "* static_usd_rate: exchange rate to transform goal in every column from current currency to USD\n",
    "\n"
   ]
  },
  {
   "cell_type": "markdown",
   "metadata": {},
   "source": [
    "### Stakeholder: Project creator \n",
    "### Question: Is it useful to put much effort into launching a campaign on kickstarter? \n",
    "### Measure: Is the campaign likely to succeed or fail?"
   ]
  },
  {
   "cell_type": "markdown",
   "metadata": {},
   "source": [
    "## Import Libraries"
   ]
  },
  {
   "cell_type": "code",
   "execution_count": 18,
   "metadata": {},
   "outputs": [],
   "source": [
    "# Libraries\n",
    "\n",
    "import os, json, re\n",
    "import pandas as pd \n",
    "\n"
   ]
  },
  {
   "cell_type": "markdown",
   "metadata": {},
   "source": [
    "## Important Functions"
   ]
  },
  {
   "cell_type": "code",
   "execution_count": 3,
   "metadata": {},
   "outputs": [],
   "source": [
    "######### functions for pre-processing ####################################################################\n",
    "\n",
    "def extract_year_date_month(df, column):\n",
    "    '''Takes a column, converts it to datetime, and creates new columns with day, month and year\n",
    "    The new columns are named:\n",
    "        - column_weekday\n",
    "        - column_month\n",
    "        - column_year\n",
    "    '''\n",
    "    \n",
    "    # Convert column in df to datetime\n",
    "    df[column] = pd.to_datetime(df[column], unit='s')\n",
    "\n",
    "    # extract the day, month, and year components\n",
    "    df[column + '_' + 'weekday'] = df[column].dt.weekday\n",
    "    df[column + '_' + 'month'] = df[column].dt.month\n",
    "    #df[column + '_' + 'year'] = df[column].dt.year\n",
    "\n",
    "    return df\n",
    "\n",
    "\n",
    "def duration(df, column1, column2):\n",
    "    '''Returns the duration in days between 2 columns with datetime and puts it into a new colum\n",
    "        - column1: start date\n",
    "        - column2: end date\n",
    "    '''\n",
    "    df['duration_days'] = (df[column2] - df[column1]).dt.days\n",
    "\n",
    "    return df\n",
    "\n",
    "def convert_to_usd(df):\n",
    "    return round(df['goal'] * df['static_usd_rate'],2)\n",
    "\n",
    "######### functions for analysing predictions ########################################################## \n",
    "\n"
   ]
  },
  {
   "cell_type": "markdown",
   "metadata": {},
   "source": [
    "## Load data into one dataframe"
   ]
  },
  {
   "cell_type": "code",
   "execution_count": 19,
   "metadata": {},
   "outputs": [],
   "source": [
    "data =pd"
   ]
  },
  {
   "cell_type": "code",
   "execution_count": 20,
   "metadata": {},
   "outputs": [
    {
     "data": {
      "text/html": [
       "<div>\n",
       "<style scoped>\n",
       "    .dataframe tbody tr th:only-of-type {\n",
       "        vertical-align: middle;\n",
       "    }\n",
       "\n",
       "    .dataframe tbody tr th {\n",
       "        vertical-align: top;\n",
       "    }\n",
       "\n",
       "    .dataframe thead th {\n",
       "        text-align: right;\n",
       "    }\n",
       "</style>\n",
       "<table border=\"1\" class=\"dataframe\">\n",
       "  <thead>\n",
       "    <tr style=\"text-align: right;\">\n",
       "      <th></th>\n",
       "      <th>backers_count</th>\n",
       "      <th>category</th>\n",
       "      <th>country</th>\n",
       "      <th>creator</th>\n",
       "      <th>spotlight</th>\n",
       "      <th>staff_pick</th>\n",
       "      <th>state</th>\n",
       "      <th>static_usd_rate</th>\n",
       "      <th>goal</th>\n",
       "      <th>launched_at</th>\n",
       "      <th>deadline</th>\n",
       "    </tr>\n",
       "  </thead>\n",
       "  <tbody>\n",
       "    <tr>\n",
       "      <th>0</th>\n",
       "      <td>21</td>\n",
       "      <td>{\"id\":43,\"name\":\"Rock\",\"slug\":\"music/rock\",\"po...</td>\n",
       "      <td>US</td>\n",
       "      <td>{\"id\":1495925645,\"name\":\"Daniel\",\"is_registere...</td>\n",
       "      <td>True</td>\n",
       "      <td>False</td>\n",
       "      <td>successful</td>\n",
       "      <td>1.000000</td>\n",
       "      <td>200.0</td>\n",
       "      <td>1388011046</td>\n",
       "      <td>1391899046</td>\n",
       "    </tr>\n",
       "    <tr>\n",
       "      <th>1</th>\n",
       "      <td>97</td>\n",
       "      <td>{\"id\":54,\"name\":\"Mixed Media\",\"slug\":\"art/mixe...</td>\n",
       "      <td>US</td>\n",
       "      <td>{\"id\":1175589980,\"name\":\"Katherine\",\"slug\":\"fr...</td>\n",
       "      <td>True</td>\n",
       "      <td>False</td>\n",
       "      <td>successful</td>\n",
       "      <td>1.000000</td>\n",
       "      <td>400.0</td>\n",
       "      <td>1550073611</td>\n",
       "      <td>1551801611</td>\n",
       "    </tr>\n",
       "    <tr>\n",
       "      <th>2</th>\n",
       "      <td>88</td>\n",
       "      <td>{\"id\":280,\"name\":\"Photobooks\",\"slug\":\"photogra...</td>\n",
       "      <td>US</td>\n",
       "      <td>{\"id\":1196856269,\"name\":\"MelissaThomas\",\"is_re...</td>\n",
       "      <td>True</td>\n",
       "      <td>True</td>\n",
       "      <td>successful</td>\n",
       "      <td>1.000000</td>\n",
       "      <td>27224.0</td>\n",
       "      <td>1478012330</td>\n",
       "      <td>1480607930</td>\n",
       "    </tr>\n",
       "    <tr>\n",
       "      <th>3</th>\n",
       "      <td>193</td>\n",
       "      <td>{\"id\":266,\"name\":\"Footwear\",\"slug\":\"fashion/fo...</td>\n",
       "      <td>IT</td>\n",
       "      <td>{\"id\":1569700626,\"name\":\"WAO\",\"slug\":\"wearewao...</td>\n",
       "      <td>True</td>\n",
       "      <td>False</td>\n",
       "      <td>successful</td>\n",
       "      <td>1.136525</td>\n",
       "      <td>40000.0</td>\n",
       "      <td>1540684582</td>\n",
       "      <td>1544309940</td>\n",
       "    </tr>\n",
       "    <tr>\n",
       "      <th>4</th>\n",
       "      <td>20</td>\n",
       "      <td>{\"id\":51,\"name\":\"Software\",\"slug\":\"technology/...</td>\n",
       "      <td>US</td>\n",
       "      <td>{\"id\":1870845385,\"name\":\"Kalpit Jain\",\"is_regi...</td>\n",
       "      <td>False</td>\n",
       "      <td>False</td>\n",
       "      <td>failed</td>\n",
       "      <td>1.000000</td>\n",
       "      <td>1000.0</td>\n",
       "      <td>1425919017</td>\n",
       "      <td>1428511017</td>\n",
       "    </tr>\n",
       "  </tbody>\n",
       "</table>\n",
       "</div>"
      ],
      "text/plain": [
       "   backers_count                                           category country   \n",
       "0             21  {\"id\":43,\"name\":\"Rock\",\"slug\":\"music/rock\",\"po...      US  \\\n",
       "1             97  {\"id\":54,\"name\":\"Mixed Media\",\"slug\":\"art/mixe...      US   \n",
       "2             88  {\"id\":280,\"name\":\"Photobooks\",\"slug\":\"photogra...      US   \n",
       "3            193  {\"id\":266,\"name\":\"Footwear\",\"slug\":\"fashion/fo...      IT   \n",
       "4             20  {\"id\":51,\"name\":\"Software\",\"slug\":\"technology/...      US   \n",
       "\n",
       "                                             creator  spotlight  staff_pick   \n",
       "0  {\"id\":1495925645,\"name\":\"Daniel\",\"is_registere...       True       False  \\\n",
       "1  {\"id\":1175589980,\"name\":\"Katherine\",\"slug\":\"fr...       True       False   \n",
       "2  {\"id\":1196856269,\"name\":\"MelissaThomas\",\"is_re...       True        True   \n",
       "3  {\"id\":1569700626,\"name\":\"WAO\",\"slug\":\"wearewao...       True       False   \n",
       "4  {\"id\":1870845385,\"name\":\"Kalpit Jain\",\"is_regi...      False       False   \n",
       "\n",
       "        state  static_usd_rate     goal  launched_at    deadline  \n",
       "0  successful         1.000000    200.0   1388011046  1391899046  \n",
       "1  successful         1.000000    400.0   1550073611  1551801611  \n",
       "2  successful         1.000000  27224.0   1478012330  1480607930  \n",
       "3  successful         1.136525  40000.0   1540684582  1544309940  \n",
       "4      failed         1.000000   1000.0   1425919017  1428511017  "
      ]
     },
     "execution_count": 20,
     "metadata": {},
     "output_type": "execute_result"
    }
   ],
   "source": [
    "directory = 'data-2/'\n",
    "data = pd.DataFrame()\n",
    "relevant_columns = ['backers_count', 'category', 'country', 'creator', 'spotlight', 'staff_pick', 'state', 'static_usd_rate', 'goal', 'launched_at', 'deadline']\n",
    "\n",
    "for file in sorted(os.listdir(directory)):\n",
    "    df_temp = pd.read_csv(directory+file)\n",
    "    data = pd.concat([data, df_temp[relevant_columns]], ignore_index=True)\n",
    "\n",
    "data.head()"
   ]
  },
  {
   "cell_type": "markdown",
   "metadata": {},
   "source": [
    "## Work on the json string columns"
   ]
  },
  {
   "cell_type": "markdown",
   "metadata": {},
   "source": [
    "### Extract the 'slug' parameter from the category column and drop the category column"
   ]
  },
  {
   "cell_type": "code",
   "execution_count": 21,
   "metadata": {},
   "outputs": [],
   "source": [
    "cat_data = data[\"category\"].apply(json.loads)\n",
    "cat_data = pd.DataFrame(cat_data.tolist())\n",
    "data['slug'] = cat_data['slug']\n",
    "data = data.drop(\"category\", axis=1)"
   ]
  },
  {
   "cell_type": "markdown",
   "metadata": {},
   "source": [
    "### Extract the ID from the creator column and drop the creator column"
   ]
  },
  {
   "cell_type": "code",
   "execution_count": 22,
   "metadata": {},
   "outputs": [],
   "source": [
    "data[\"creator_id\"] = data[\"creator\"].apply(lambda x: re.findall(r'\\d+', x)[0])\n",
    "data = data.drop(\"creator\", axis=1)\n"
   ]
  },
  {
   "cell_type": "markdown",
   "metadata": {},
   "source": [
    "## Work on the datetime columns"
   ]
  },
  {
   "cell_type": "markdown",
   "metadata": {},
   "source": [
    "### Convert date-data to type date.time()"
   ]
  },
  {
   "cell_type": "code",
   "execution_count": 23,
   "metadata": {},
   "outputs": [],
   "source": [
    "data['launched_at'] = pd.to_datetime(data['launched_at'], unit='s')\n",
    "data['deadline'] = pd.to_datetime(data['deadline'], unit='s')"
   ]
  },
  {
   "cell_type": "markdown",
   "metadata": {},
   "source": [
    "### Extract weekday and month of kickstarter project launch, as well as the duration of the kickstarter project and drop the \"launched_at\" and \"deadline\" column"
   ]
  },
  {
   "cell_type": "code",
   "execution_count": 24,
   "metadata": {},
   "outputs": [],
   "source": [
    "data = extract_year_date_month(data, 'launched_at')\n",
    "data = duration(data, 'launched_at', 'deadline')\n",
    "\n",
    "data = data.drop(['launched_at', 'deadline'], axis=1)"
   ]
  },
  {
   "cell_type": "markdown",
   "metadata": {},
   "source": [
    "### Convert unit of \"goal\" to USD and drop \"static_usd_rate\" and \"goal\" column"
   ]
  },
  {
   "cell_type": "code",
   "execution_count": 25,
   "metadata": {},
   "outputs": [],
   "source": [
    "data['goal_in_usd'] = data.apply(convert_to_usd, axis=1)\n",
    "data = data.drop(['static_usd_rate', 'goal'], axis=1)"
   ]
  },
  {
   "cell_type": "code",
   "execution_count": 45,
   "metadata": {},
   "outputs": [
    {
     "data": {
      "text/html": [
       "<div>\n",
       "<style scoped>\n",
       "    .dataframe tbody tr th:only-of-type {\n",
       "        vertical-align: middle;\n",
       "    }\n",
       "\n",
       "    .dataframe tbody tr th {\n",
       "        vertical-align: top;\n",
       "    }\n",
       "\n",
       "    .dataframe thead th {\n",
       "        text-align: right;\n",
       "    }\n",
       "</style>\n",
       "<table border=\"1\" class=\"dataframe\">\n",
       "  <thead>\n",
       "    <tr style=\"text-align: right;\">\n",
       "      <th></th>\n",
       "      <th>backers_count</th>\n",
       "      <th>country</th>\n",
       "      <th>spotlight</th>\n",
       "      <th>staff_pick</th>\n",
       "      <th>state</th>\n",
       "      <th>slug</th>\n",
       "      <th>creator_id</th>\n",
       "      <th>launched_at_weekday</th>\n",
       "      <th>launched_at_month</th>\n",
       "      <th>duration_days</th>\n",
       "      <th>goal_in_usd</th>\n",
       "    </tr>\n",
       "  </thead>\n",
       "  <tbody>\n",
       "    <tr>\n",
       "      <th>0</th>\n",
       "      <td>21</td>\n",
       "      <td>US</td>\n",
       "      <td>True</td>\n",
       "      <td>False</td>\n",
       "      <td>successful</td>\n",
       "      <td>music/rock</td>\n",
       "      <td>1495925645</td>\n",
       "      <td>2</td>\n",
       "      <td>12</td>\n",
       "      <td>45</td>\n",
       "      <td>200.00</td>\n",
       "    </tr>\n",
       "    <tr>\n",
       "      <th>1</th>\n",
       "      <td>97</td>\n",
       "      <td>US</td>\n",
       "      <td>True</td>\n",
       "      <td>False</td>\n",
       "      <td>successful</td>\n",
       "      <td>art/mixed media</td>\n",
       "      <td>1175589980</td>\n",
       "      <td>2</td>\n",
       "      <td>2</td>\n",
       "      <td>20</td>\n",
       "      <td>400.00</td>\n",
       "    </tr>\n",
       "    <tr>\n",
       "      <th>2</th>\n",
       "      <td>88</td>\n",
       "      <td>US</td>\n",
       "      <td>True</td>\n",
       "      <td>True</td>\n",
       "      <td>successful</td>\n",
       "      <td>photography/photobooks</td>\n",
       "      <td>1196856269</td>\n",
       "      <td>1</td>\n",
       "      <td>11</td>\n",
       "      <td>30</td>\n",
       "      <td>27224.00</td>\n",
       "    </tr>\n",
       "    <tr>\n",
       "      <th>3</th>\n",
       "      <td>193</td>\n",
       "      <td>IT</td>\n",
       "      <td>True</td>\n",
       "      <td>False</td>\n",
       "      <td>successful</td>\n",
       "      <td>fashion/footwear</td>\n",
       "      <td>1569700626</td>\n",
       "      <td>5</td>\n",
       "      <td>10</td>\n",
       "      <td>41</td>\n",
       "      <td>45461.00</td>\n",
       "    </tr>\n",
       "    <tr>\n",
       "      <th>4</th>\n",
       "      <td>20</td>\n",
       "      <td>US</td>\n",
       "      <td>False</td>\n",
       "      <td>False</td>\n",
       "      <td>failed</td>\n",
       "      <td>technology/software</td>\n",
       "      <td>1870845385</td>\n",
       "      <td>0</td>\n",
       "      <td>3</td>\n",
       "      <td>30</td>\n",
       "      <td>1000.00</td>\n",
       "    </tr>\n",
       "    <tr>\n",
       "      <th>5</th>\n",
       "      <td>77</td>\n",
       "      <td>GB</td>\n",
       "      <td>True</td>\n",
       "      <td>False</td>\n",
       "      <td>successful</td>\n",
       "      <td>fashion/accessories</td>\n",
       "      <td>385711367</td>\n",
       "      <td>4</td>\n",
       "      <td>2</td>\n",
       "      <td>15</td>\n",
       "      <td>567.75</td>\n",
       "    </tr>\n",
       "    <tr>\n",
       "      <th>6</th>\n",
       "      <td>15</td>\n",
       "      <td>US</td>\n",
       "      <td>True</td>\n",
       "      <td>False</td>\n",
       "      <td>successful</td>\n",
       "      <td>publishing/nonfiction</td>\n",
       "      <td>160498270</td>\n",
       "      <td>1</td>\n",
       "      <td>8</td>\n",
       "      <td>6</td>\n",
       "      <td>850.00</td>\n",
       "    </tr>\n",
       "    <tr>\n",
       "      <th>7</th>\n",
       "      <td>1</td>\n",
       "      <td>US</td>\n",
       "      <td>False</td>\n",
       "      <td>False</td>\n",
       "      <td>failed</td>\n",
       "      <td>technology/software</td>\n",
       "      <td>1188856672</td>\n",
       "      <td>1</td>\n",
       "      <td>11</td>\n",
       "      <td>10</td>\n",
       "      <td>20000.00</td>\n",
       "    </tr>\n",
       "    <tr>\n",
       "      <th>8</th>\n",
       "      <td>2</td>\n",
       "      <td>US</td>\n",
       "      <td>False</td>\n",
       "      <td>False</td>\n",
       "      <td>failed</td>\n",
       "      <td>art/sculpture</td>\n",
       "      <td>164923417</td>\n",
       "      <td>3</td>\n",
       "      <td>9</td>\n",
       "      <td>30</td>\n",
       "      <td>14500.00</td>\n",
       "    </tr>\n",
       "    <tr>\n",
       "      <th>9</th>\n",
       "      <td>31</td>\n",
       "      <td>US</td>\n",
       "      <td>False</td>\n",
       "      <td>False</td>\n",
       "      <td>failed</td>\n",
       "      <td>games/playing cards</td>\n",
       "      <td>1561008747</td>\n",
       "      <td>1</td>\n",
       "      <td>6</td>\n",
       "      <td>31</td>\n",
       "      <td>10000.00</td>\n",
       "    </tr>\n",
       "  </tbody>\n",
       "</table>\n",
       "</div>"
      ],
      "text/plain": [
       "   backers_count country  spotlight  staff_pick       state   \n",
       "0             21      US       True       False  successful  \\\n",
       "1             97      US       True       False  successful   \n",
       "2             88      US       True        True  successful   \n",
       "3            193      IT       True       False  successful   \n",
       "4             20      US      False       False      failed   \n",
       "5             77      GB       True       False  successful   \n",
       "6             15      US       True       False  successful   \n",
       "7              1      US      False       False      failed   \n",
       "8              2      US      False       False      failed   \n",
       "9             31      US      False       False      failed   \n",
       "\n",
       "                     slug  creator_id  launched_at_weekday  launched_at_month   \n",
       "0              music/rock  1495925645                    2                 12  \\\n",
       "1         art/mixed media  1175589980                    2                  2   \n",
       "2  photography/photobooks  1196856269                    1                 11   \n",
       "3        fashion/footwear  1569700626                    5                 10   \n",
       "4     technology/software  1870845385                    0                  3   \n",
       "5     fashion/accessories   385711367                    4                  2   \n",
       "6   publishing/nonfiction   160498270                    1                  8   \n",
       "7     technology/software  1188856672                    1                 11   \n",
       "8           art/sculpture   164923417                    3                  9   \n",
       "9     games/playing cards  1561008747                    1                  6   \n",
       "\n",
       "   duration_days  goal_in_usd  \n",
       "0             45       200.00  \n",
       "1             20       400.00  \n",
       "2             30     27224.00  \n",
       "3             41     45461.00  \n",
       "4             30      1000.00  \n",
       "5             15       567.75  \n",
       "6              6       850.00  \n",
       "7             10     20000.00  \n",
       "8             30     14500.00  \n",
       "9             31     10000.00  "
      ]
     },
     "execution_count": 45,
     "metadata": {},
     "output_type": "execute_result"
    }
   ],
   "source": [
    "data.head(10)"
   ]
  },
  {
   "cell_type": "markdown",
   "metadata": {},
   "source": [
    "# Data cleaing and Exploratory data Analysis"
   ]
  },
  {
   "cell_type": "code",
   "execution_count": 31,
   "metadata": {},
   "outputs": [
    {
     "data": {
      "text/plain": [
       "backers_count          0\n",
       "country                0\n",
       "spotlight              0\n",
       "staff_pick             0\n",
       "state                  0\n",
       "slug                   0\n",
       "creator_id             0\n",
       "launched_at_weekday    0\n",
       "launched_at_month      0\n",
       "duration_days          0\n",
       "goal_in_usd            0\n",
       "dtype: int64"
      ]
     },
     "execution_count": 31,
     "metadata": {},
     "output_type": "execute_result"
    }
   ],
   "source": [
    "# find the missing numbers\n",
    "data.isna().sum()"
   ]
  },
  {
   "cell_type": "code",
   "execution_count": 35,
   "metadata": {},
   "outputs": [
    {
     "data": {
      "text/plain": [
       "(209222, 11)"
      ]
     },
     "execution_count": 35,
     "metadata": {},
     "output_type": "execute_result"
    }
   ],
   "source": [
    "data.shape"
   ]
  },
  {
   "cell_type": "code",
   "execution_count": 44,
   "metadata": {},
   "outputs": [
    {
     "name": "stdout",
     "output_type": "stream",
     "text": [
      "'backers_count' has 205976 duplicate value(s).\n",
      "'country' has 209200 duplicate value(s).\n",
      "'spotlight' has 209220 duplicate value(s).\n",
      "'staff_pick' has 209220 duplicate value(s).\n",
      "'state' has 209217 duplicate value(s).\n",
      "'slug' has 209053 duplicate value(s).\n",
      "'creator_id' has 51896 duplicate value(s).\n",
      "'launched_at_weekday' has 209215 duplicate value(s).\n",
      "'launched_at_month' has 209210 duplicate value(s).\n",
      "'duration_days' has 209129 duplicate value(s).\n",
      "'goal_in_usd' has 159993 duplicate value(s).\n"
     ]
    }
   ],
   "source": [
    "\n",
    "# find and print duplicate value \n",
    "def print_duplicate_counts(data):\n",
    "    \"\"\"\n",
    "    Print the total number of duplicate values in each column of the DataFrame.\n",
    "\n",
    "    Parameters:\n",
    "    - data: pandas DataFrame\n",
    "    \"\"\"\n",
    "    for column in data.columns:\n",
    "        duplicate_count = data[column].duplicated().sum()\n",
    "        print(f\"'{column}' has {duplicate_count} duplicate value(s).\")\n",
    "\n",
    "print_duplicate_counts(data)\n"
   ]
  },
  {
   "cell_type": "markdown",
   "metadata": {},
   "source": [
    "* Our data does not have null values \n",
    "* we have duplicates because of catogorical data. "
   ]
  },
  {
   "cell_type": "code",
   "execution_count": 48,
   "metadata": {},
   "outputs": [
    {
     "name": "stdout",
     "output_type": "stream",
     "text": [
      "<class 'pandas.core.frame.DataFrame'>\n",
      "RangeIndex: 209222 entries, 0 to 209221\n",
      "Data columns (total 11 columns):\n",
      " #   Column               Non-Null Count   Dtype  \n",
      "---  ------               --------------   -----  \n",
      " 0   backers_count        209222 non-null  int64  \n",
      " 1   country              209222 non-null  object \n",
      " 2   spotlight            209222 non-null  bool   \n",
      " 3   staff_pick           209222 non-null  bool   \n",
      " 4   state                209222 non-null  object \n",
      " 5   slug                 209222 non-null  object \n",
      " 6   creator_id           209222 non-null  object \n",
      " 7   launched_at_weekday  209222 non-null  int32  \n",
      " 8   launched_at_month    209222 non-null  int32  \n",
      " 9   duration_days        209222 non-null  int64  \n",
      " 10  goal_in_usd          209222 non-null  float64\n",
      "dtypes: bool(2), float64(1), int32(2), int64(2), object(4)\n",
      "memory usage: 13.2+ MB\n"
     ]
    }
   ],
   "source": [
    "data.info()"
   ]
  },
  {
   "cell_type": "code",
   "execution_count": 52,
   "metadata": {},
   "outputs": [
    {
     "data": {
      "text/html": [
       "<div>\n",
       "<style scoped>\n",
       "    .dataframe tbody tr th:only-of-type {\n",
       "        vertical-align: middle;\n",
       "    }\n",
       "\n",
       "    .dataframe tbody tr th {\n",
       "        vertical-align: top;\n",
       "    }\n",
       "\n",
       "    .dataframe thead th {\n",
       "        text-align: right;\n",
       "    }\n",
       "</style>\n",
       "<table border=\"1\" class=\"dataframe\">\n",
       "  <thead>\n",
       "    <tr style=\"text-align: right;\">\n",
       "      <th></th>\n",
       "      <th>backers_count</th>\n",
       "      <th>launched_at_weekday</th>\n",
       "      <th>launched_at_month</th>\n",
       "      <th>duration_days</th>\n",
       "      <th>goal_in_usd</th>\n",
       "    </tr>\n",
       "  </thead>\n",
       "  <tbody>\n",
       "    <tr>\n",
       "      <th>count</th>\n",
       "      <td>209222.00</td>\n",
       "      <td>209222.00</td>\n",
       "      <td>209222.00</td>\n",
       "      <td>209222.00</td>\n",
       "      <td>2.092220e+05</td>\n",
       "    </tr>\n",
       "    <tr>\n",
       "      <th>mean</th>\n",
       "      <td>145.42</td>\n",
       "      <td>2.37</td>\n",
       "      <td>6.30</td>\n",
       "      <td>32.50</td>\n",
       "      <td>4.097268e+04</td>\n",
       "    </tr>\n",
       "    <tr>\n",
       "      <th>std</th>\n",
       "      <td>885.97</td>\n",
       "      <td>1.80</td>\n",
       "      <td>3.38</td>\n",
       "      <td>11.83</td>\n",
       "      <td>1.120040e+06</td>\n",
       "    </tr>\n",
       "    <tr>\n",
       "      <th>min</th>\n",
       "      <td>0.00</td>\n",
       "      <td>0.00</td>\n",
       "      <td>1.00</td>\n",
       "      <td>1.00</td>\n",
       "      <td>1.000000e-02</td>\n",
       "    </tr>\n",
       "    <tr>\n",
       "      <th>25%</th>\n",
       "      <td>4.00</td>\n",
       "      <td>1.00</td>\n",
       "      <td>3.00</td>\n",
       "      <td>29.00</td>\n",
       "      <td>1.500000e+03</td>\n",
       "    </tr>\n",
       "    <tr>\n",
       "      <th>50%</th>\n",
       "      <td>27.00</td>\n",
       "      <td>2.00</td>\n",
       "      <td>6.00</td>\n",
       "      <td>30.00</td>\n",
       "      <td>5.000000e+03</td>\n",
       "    </tr>\n",
       "    <tr>\n",
       "      <th>75%</th>\n",
       "      <td>89.00</td>\n",
       "      <td>4.00</td>\n",
       "      <td>9.00</td>\n",
       "      <td>34.00</td>\n",
       "      <td>1.300000e+04</td>\n",
       "    </tr>\n",
       "    <tr>\n",
       "      <th>max</th>\n",
       "      <td>105857.00</td>\n",
       "      <td>6.00</td>\n",
       "      <td>12.00</td>\n",
       "      <td>93.00</td>\n",
       "      <td>1.523501e+08</td>\n",
       "    </tr>\n",
       "  </tbody>\n",
       "</table>\n",
       "</div>"
      ],
      "text/plain": [
       "       backers_count  launched_at_weekday  launched_at_month  duration_days   \n",
       "count      209222.00            209222.00          209222.00      209222.00  \\\n",
       "mean          145.42                 2.37               6.30          32.50   \n",
       "std           885.97                 1.80               3.38          11.83   \n",
       "min             0.00                 0.00               1.00           1.00   \n",
       "25%             4.00                 1.00               3.00          29.00   \n",
       "50%            27.00                 2.00               6.00          30.00   \n",
       "75%            89.00                 4.00               9.00          34.00   \n",
       "max        105857.00                 6.00              12.00          93.00   \n",
       "\n",
       "        goal_in_usd  \n",
       "count  2.092220e+05  \n",
       "mean   4.097268e+04  \n",
       "std    1.120040e+06  \n",
       "min    1.000000e-02  \n",
       "25%    1.500000e+03  \n",
       "50%    5.000000e+03  \n",
       "75%    1.300000e+04  \n",
       "max    1.523501e+08  "
      ]
     },
     "execution_count": 52,
     "metadata": {},
     "output_type": "execute_result"
    }
   ],
   "source": [
    "data.describe().round(2)"
   ]
  },
  {
   "cell_type": "code",
   "execution_count": 57,
   "metadata": {},
   "outputs": [
    {
     "name": "stdout",
     "output_type": "stream",
     "text": [
      "Index(['backers_count', 'country', 'spotlight', 'staff_pick', 'state', 'slug',\n",
      "       'creator_id', 'launched_at_weekday', 'launched_at_month',\n",
      "       'duration_days', 'goal_in_usd'],\n",
      "      dtype='object')\n"
     ]
    }
   ],
   "source": [
    "print(data.columns)"
   ]
  },
  {
   "cell_type": "markdown",
   "metadata": {},
   "source": [
    "# Maximum number of successful project with week days"
   ]
  },
  {
   "cell_type": "code",
   "execution_count": 101,
   "metadata": {},
   "outputs": [
    {
     "name": "stdout",
     "output_type": "stream",
     "text": [
      "        backers_count country  spotlight  staff_pick       state   \n",
      "0                  21      US       True       False  successful  \\\n",
      "1                  97      US       True       False  successful   \n",
      "2                  88      US       True        True  successful   \n",
      "3                 193      IT       True       False  successful   \n",
      "4                  20      US      False       False      failed   \n",
      "...               ...     ...        ...         ...         ...   \n",
      "209217             57      US       True       False  successful   \n",
      "209218             11      AU      False       False      failed   \n",
      "209219              0      US      False       False      failed   \n",
      "209220             11      US       True       False  successful   \n",
      "209221             49      GB       True       False  successful   \n",
      "\n",
      "                               slug  creator_id  launched_at_weekday   \n",
      "0                        music/rock  1495925645                    2  \\\n",
      "1                   art/mixed media  1175589980                    2   \n",
      "2            photography/photobooks  1196856269                    1   \n",
      "3                  fashion/footwear  1569700626                    5   \n",
      "4               technology/software  1870845385                    0   \n",
      "...                             ...         ...                  ...   \n",
      "209217                  food/drinks    86849824                    1   \n",
      "209218               food/cookbooks  1899017630                    5   \n",
      "209219        fashion/childrenswear  1589905505                    4   \n",
      "209220  publishing/children's books  1468696154                    1   \n",
      "209221                 art/painting   230724301                    2   \n",
      "\n",
      "        launched_at_month  duration_days  goal_in_usd   day_name  \n",
      "0                      12             45        200.0  Wednesday  \n",
      "1                       2             20        400.0  Wednesday  \n",
      "2                      11             30      27224.0    Tuesday  \n",
      "3                      10             41      45461.0   Saturday  \n",
      "4                       3             30       1000.0     Monday  \n",
      "...                   ...            ...          ...        ...  \n",
      "209217                  2             44      10000.0    Tuesday  \n",
      "209218                 12             30       5820.6   Saturday  \n",
      "209219                  8             30       8000.0     Friday  \n",
      "209220                  2             29       1000.0    Tuesday  \n",
      "209221                  4             60       4184.3  Wednesday  \n",
      "\n",
      "[209222 rows x 12 columns]\n"
     ]
    }
   ],
   "source": [
    "# convert the launched_at_weekday to days name \n",
    "import calendar\n",
    "\n",
    "# Define a function to convert day numbers to day names\n",
    "def number_to_day_name(day_number):\n",
    "    return calendar.day_name[day_number]\n",
    "\n",
    "# Apply the function to create a new column with day names\n",
    "data['day_name'] = data['launched_at_weekday'].apply(number_to_day_name)\n",
    "\n",
    "# Display the resulting DataFrame\n",
    "print(data)\n"
   ]
  },
  {
   "cell_type": "code",
   "execution_count": 93,
   "metadata": {},
   "outputs": [
    {
     "data": {
      "image/png": "[encoded data removed]",
      "text/plain": [
       "<Figure size 1000x600 with 1 Axes>"
      ]
     },
     "metadata": {},
     "output_type": "display_data"
    }
   ],
   "source": [
    "# Count the occurrences of each combination of 'state' and 'day_name'\n",
    "count_data = data.groupby(['state', 'day_name']).size().reset_index(name='count')\n",
    "\n",
    "# Pivot the data to get 'state' as columns\n",
    "pivot_data = count_data.pivot(index='day_name', columns='state', values='count').fillna(0)\n",
    "\n",
    "# Plotting\n",
    "sns.set(style=\"whitegrid\")  \n",
    "pivot_data.plot(kind='bar', stacked=True, figsize=(10, 6))\n",
    "plt.title('Kickstarter Projects by State and Day of the Week')\n",
    "plt.xlabel('Day of the Week')\n",
    "plt.ylabel('Number of Projects')\n",
    "plt.legend(title='State', loc='upper center', bbox_to_anchor=(0.5, 1), fancybox=True, shadow=True)\n",
    "plt.show()"
   ]
  },
  {
   "cell_type": "code",
   "execution_count": 99,
   "metadata": {},
   "outputs": [
    {
     "name": "stdout",
     "output_type": "stream",
     "text": [
      "Day with Maximum Successful Projects: Tuesday\n",
      "Number of Successful Projects on that day: 25385\n"
     ]
    }
   ],
   "source": [
    "# Group by 'day_name_column' and 'state_column' and count the occurrences\n",
    "grouped_data = data.groupby(['day_name', 'state']).size().reset_index(name='count')\n",
    "\n",
    "# Filter only successful projects\n",
    "successful_projects = grouped_data[grouped_data['state'] == 'successful']\n",
    "\n",
    "# Find the day with the maximum successful projects\n",
    "max_successful_day = successful_projects.loc[successful_projects['count'].idxmax()]\n",
    "\n",
    "# Print the result\n",
    "print(\"Day with Maximum Successful Projects:\", max_successful_day['day_name'])\n",
    "print(\"Number of Successful Projects on that day:\", max_successful_day['count'])"
   ]
  },
  {
   "cell_type": "code",
   "execution_count": null,
   "metadata": {},
   "outputs": [],
   "source": []
  }
 ],
 "metadata": {
  "kernelspec": {
   "display_name": ".venv",
   "language": "python",
   "name": "python3"
  },
  "language_info": {
   "codemirror_mode": {
    "name": "ipython",
    "version": 3
   },
   "file_extension": ".py",
   "mimetype": "text/x-python",
   "name": "python",
   "nbconvert_exporter": "python",
   "pygments_lexer": "ipython3",
   "version": "3.11.3"
  }
 },
 "nbformat": 4,
 "nbformat_minor": 2
}
